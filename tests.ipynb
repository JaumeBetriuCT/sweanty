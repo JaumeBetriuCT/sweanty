{
 "cells": [
  {
   "attachments": {},
   "cell_type": "markdown",
   "metadata": {},
   "source": [
    "# Products table creation"
   ]
  },
  {
   "cell_type": "code",
   "execution_count": 79,
   "metadata": {},
   "outputs": [],
   "source": [
    "import pandas as pd\n",
    "import numpy as np"
   ]
  },
  {
   "cell_type": "code",
   "execution_count": 80,
   "metadata": {},
   "outputs": [],
   "source": [
    "products = pd.read_excel(\"original_data/products.xlsx\")"
   ]
  },
  {
   "cell_type": "code",
   "execution_count": 81,
   "metadata": {},
   "outputs": [],
   "source": [
    "# Translate some of the variables:\n",
    "products[\"type\"].replace({\"Isotonic\": \"isotonic\", \"Pastilles\": \"pills\", \"Gel\": \"gel\"}, inplace=True)\n",
    "\n",
    "products[\"tendency\"].replace({\"mitja\": \"strandard\", \"alta\": \"high\", \"baixa\": \"low\", \"bixa\": \"low\"}, inplace=True)\n",
    "\n",
    "products.drop(\"RESTRICCIONS DOSI\", axis=1, inplace=True)\n",
    "\n",
    "products[\"vegan\"].fillna(False, inplace=True)\n",
    "products[\"vegan\"].replace({\"Sí\": True}, inplace=True)\n",
    "\n",
    "products[\"gluten_free\"].fillna(False, inplace=True)\n",
    "products[\"gluten_free\"].replace({\"Sí\": True, \"Sí \": True}, inplace=True)\n",
    "products[\"gluten\"] = products[\"gluten_free\"].replace({True: False, False: True})\n",
    "\n",
    "products[\"lactose\"].fillna(True, inplace=True)\n",
    "products[\"lactose\"].replace({\"-\": True, \"No conté\": False, \" Pot contenir tz\": True}, inplace=True)\n",
    "\n",
    "products[\"egg_protein\"].fillna(True, inplace=True)\n",
    "products[\"egg_protein\"].replace({\"-\": True, \"No conté\": False, \" Pot contenir tz\": True}, inplace=True)\n",
    "\n",
    "products[\"nuts\"].fillna(True, inplace=True)\n",
    "products[\"nuts\"].replace({\"-\": True, \"No conté\": False, \" Pot contenir tz\": True}, inplace=True)\n",
    "\n",
    "products[\"soy\"].fillna(True, inplace=True)\n",
    "products[\"soy\"].replace({\"-\": True, \"No conté\": False, \" Pot contenir tz\": True}, inplace=True)\n",
    "\n",
    "products[\"natural\"].fillna(False, inplace=True)\n",
    "products[\"natural\"].replace({\"Sí \": True}, inplace=True)"
   ]
  },
  {
   "cell_type": "code",
   "execution_count": 82,
   "metadata": {},
   "outputs": [],
   "source": [
    "# The salts must be in grams:\n",
    "products[\"g_salts\"] = products[\"mg_salts\"] / 1000"
   ]
  },
  {
   "attachments": {},
   "cell_type": "markdown",
   "metadata": {},
   "source": [
    "# Tests Kilian Garcia Salts calculations"
   ]
  },
  {
   "cell_type": "code",
   "execution_count": 83,
   "metadata": {},
   "outputs": [],
   "source": [
    "# Volatges from the 3 trainings:\n",
    "voltages = {\"voltage1\": 0.826, \"voltage2\": 0.818, \"voltage3\": 0.803}\n",
    "\n",
    "# Initial data from the app:\n",
    "training_asfalto1 = {\"trainingid\": \"t1\", \"initial_weight\": 64.4, \"final_weight\": 63, \"water_intake\": 0.25, \"time\": 1.15, \"total_distance\": 16.74, \"total_elevation\": 0, \"times_orinated\": 0}\n",
    "training_asfalto2 = {\"trainingid\": \"t2\", \"initial_weight\": 66.2, \"final_weight\": 64.5, \"water_intake\": 1.5, \"time\": 2.066, \"total_distance\": 30, \"total_elevation\": 0, \"times_orinated\": 0}\n",
    "\n",
    "training_mountain1 = {\"trainingid\": \"t3\", \"initial_weight\": 65.8, \"final_weight\": 64, \"water_intake\": 1.25, \"time\": 2.033, \"total_distance\": 25.4, \"total_elevation\": 0, \"times_orinated\": 0}\n",
    "training_mountain2 = {\"trainingid\": \"t4\", \"initial_weight\": 66.4, \"final_weight\": 64.5, \"water_intake\": 1, \"time\": 1.88, \"total_distance\": 20.85, \"total_elevation\": 706, \"times_orinated\": 0}\n",
    "\n",
    "# Create the dataframe:\n",
    "data = pd.DataFrame([training_asfalto1, training_asfalto2, training_mountain1, training_mountain2])"
   ]
  },
  {
   "cell_type": "code",
   "execution_count": 84,
   "metadata": {},
   "outputs": [],
   "source": [
    "def calculate_salts_concentration(voltage: float) -> float:\n",
    "    return (voltage - 0.42141) / (0.00819)\n",
    "\n",
    "# Calculate the concentration of salts:\n",
    "concentration_of_salts = {\n",
    "    \"concentration_1\": calculate_salts_concentration(voltages[\"voltage1\"]),\n",
    "    \"concentration_2\": calculate_salts_concentration(voltages[\"voltage2\"]),\n",
    "    \"concentration_3\": calculate_salts_concentration(voltages[\"voltage3\"]),\n",
    "}\n",
    "\n",
    "# Calculate the mean:\n",
    "concentration_of_salts_mean = sum(concentration_of_salts.values()) / len(concentration_of_salts)\n",
    "# This mean will be added as if it is the concentration of salts of each one of the trainings:\n",
    "data[\"concentration_of_salts\"] = concentration_of_salts_mean\n",
    "\n",
    "# Calculate weight loss:\n",
    "data[\"weight_loss\"] = data[\"initial_weight\"] - data[\"final_weight\"] + data[\"water_intake\"] - data[\"times_orinated\"]*0.25\n",
    "\n",
    "# Define the function to calculate lost salts:\n",
    "def calculate_lost_salts(row):\n",
    "    return (row[\"concentration_of_salts\"] * 58.44 * 0.9 * row[\"weight_loss\"]) / 1000\n",
    "\n",
    "# Calculate lost salts:\n",
    "data[\"lost_salts\"] = data.apply(calculate_lost_salts, axis=1)\n",
    "\n",
    "# Calculate the intensity:\n",
    "data[\"avg_intensity\"] = data[\"total_distance\"] / data[\"time\"]"
   ]
  },
  {
   "cell_type": "code",
   "execution_count": 85,
   "metadata": {},
   "outputs": [],
   "source": [
    "# Separate the data:\n",
    "asfalt_data = data.loc[(data[\"trainingid\"].isin([\"t1\", \"t2\"]))]\n",
    "mountain_data = data.loc[(data[\"trainingid\"].isin([\"t3\", \"t4\"]))]"
   ]
  },
  {
   "cell_type": "code",
   "execution_count": 86,
   "metadata": {},
   "outputs": [],
   "source": [
    "# Objectives for the two races:\n",
    "asfalt_objectives = {\"distance\": 42, \"time\": 2.5}\n",
    "mountain_objectives = {\"distance\": 25, \"time\": 2}\n",
    "\n",
    "# Calculate the objective velocity:\n",
    "asfalt_objectives[\"avg_intensity\"] = asfalt_objectives[\"distance\"] / asfalt_objectives[\"time\"]\n",
    "mountain_objectives[\"avg_intensity\"] = mountain_objectives[\"distance\"] / mountain_objectives[\"time\"]"
   ]
  },
  {
   "cell_type": "code",
   "execution_count": 87,
   "metadata": {},
   "outputs": [
    {
     "name": "stderr",
     "output_type": "stream",
     "text": [
      "/home/leibniz/anaconda3/lib/python3.9/site-packages/sklearn/base.py:464: UserWarning: X does not have valid feature names, but LinearRegression was fitted with feature names\n",
      "  warnings.warn(\n"
     ]
    }
   ],
   "source": [
    "from sklearn.linear_model import LinearRegression\n",
    "model_asfalt = LinearRegression()\n",
    "\n",
    "# Fit the regression:\n",
    "model_asfalt.fit(asfalt_data[[\"time\"]].values, asfalt_data[\"lost_salts\"])\n",
    "\n",
    "# Predict the lost of salts:\n",
    "loss_salts_prediction_asfalt_ = model_asfalt.predict(np.array([[asfalt_objectives[\"time\"]]]))\n",
    "\n",
    "# Do the same for the mountain:\n",
    "model_mountain = LinearRegression()\n",
    "model_mountain.fit(mountain_data[[\"time\"]], mountain_data[\"lost_salts\"])\n",
    "loss_salts_prediction_mountain_ = model_mountain.predict(np.array([[mountain_objectives[\"time\"]]]))"
   ]
  },
  {
   "cell_type": "code",
   "execution_count": 88,
   "metadata": {},
   "outputs": [
    {
     "name": "stdout",
     "output_type": "stream",
     "text": [
      "[9.96150871]\n",
      "[7.64040367]\n"
     ]
    }
   ],
   "source": [
    "print(loss_salts_prediction_asfalt_)\n",
    "print(loss_salts_prediction_mountain_)"
   ]
  },
  {
   "attachments": {},
   "cell_type": "markdown",
   "metadata": {},
   "source": [
    "# Hydration plan generation asfalt"
   ]
  },
  {
   "attachments": {},
   "cell_type": "markdown",
   "metadata": {},
   "source": [
    "## Product 1"
   ]
  },
  {
   "cell_type": "code",
   "execution_count": 106,
   "metadata": {},
   "outputs": [],
   "source": [
    "# Convert it to a float since now it is an array:\n",
    "loss_salts_prediction_asfalt = loss_salts_prediction_asfalt_[0]\n",
    "loss_salts_prediction_mountain = loss_salts_prediction_mountain_[0]\n",
    "\n",
    "# Subtract some of the salts because the athlete loses a lot:\n",
    "loss_salts_prediction_asfalt = loss_salts_prediction_asfalt\n",
    "loss_salts_prediction_mountain = loss_salts_prediction_mountain\n",
    "\n",
    "brand_series = pd.concat([products[\"brand\"], pd.Series([None, None, None])], ignore_index=True)\n",
    "\n",
    "choosen_brand = brand_series.sample(n=1).iloc[0]\n",
    "\n",
    "choosen_format = pd.Series([\"pills\", \"gel\", None]).sample(n=1).iloc[0]\n",
    "\n",
    "user_conditions = pd.Series([\"vegan\", \"gluten\", \"lactose\", \"egg_protein\", \"nuts\", \"soy\"]).sample(n=2).to_list()"
   ]
  },
  {
   "cell_type": "code",
   "execution_count": 107,
   "metadata": {},
   "outputs": [
    {
     "name": "stdout",
     "output_type": "stream",
     "text": [
      "7.640403668261149\n",
      "9.961508705125013\n",
      "Santa Madre\n",
      "pills\n"
     ]
    }
   ],
   "source": [
    "print(loss_salts_prediction_mountain)\n",
    "print(loss_salts_prediction_asfalt)\n",
    "\n",
    "print(choosen_brand)\n",
    "print(choosen_format)"
   ]
  },
  {
   "cell_type": "code",
   "execution_count": 108,
   "metadata": {},
   "outputs": [],
   "source": [
    "class HydrationPlanGenerator():\n",
    "\n",
    "    def __init__(self, products: pd.DataFrame, loss_salts_prediction: float, choosen_brand: str, choosen_format: str, obj_time: float):\n",
    "        self.products = products\n",
    "        self.choosen_brand = choosen_brand\n",
    "        self.choosen_format = choosen_format\n",
    "        self.obj_time = obj_time\n",
    "\n",
    "        self.vspre = loss_salts_prediction * 0.25\n",
    "        self.vsduring = loss_salts_prediction * 0.5\n",
    "        self.vspost =  loss_salts_prediction * 0.25\n",
    "\n",
    "        self.isotonics = self.products[self.products[\"type\"] == \"isotonic\"]\n",
    "        self.gels = self.products[self.products[\"type\"] == \"gel\"]\n",
    "        self.pills = self.products[self.products[\"type\"] == \"pills\"]\n",
    "\n",
    "        self.product1 = None\n",
    "        self.product2 = None\n",
    "        self.litters_product3 = None\n",
    "        self.product4 = None\n",
    "        self.product5 = None\n",
    "\n",
    "    def get_brand_product(self, products: pd.DataFrame) -> pd.Series:\n",
    "        \"\"\"\n",
    "        The function returns the product of a certain type of the choosen brand\n",
    "\n",
    "        Used for product1 and product2\n",
    "        \"\"\"\n",
    "\n",
    "        # This function should be an SQL call once we have the DB\n",
    "        brand_product = products.loc[products[\"brand\"] == self.choosen_brand]\n",
    "\n",
    "        # Sort the products from most salts to less salts:\n",
    "        brand_product = brand_product.sort_values(by=\"g_salts\", ascending=False)\n",
    "\n",
    "        # Return all the products from the brand:\n",
    "        return brand_product\n",
    "\n",
    "    def find_max_isotonic(self) -> pd.Series:\n",
    "        \"\"\"\n",
    "        Finds the isotonic with the highest concentration of salts\n",
    "        \"\"\"\n",
    "\n",
    "        return self.isotonics.loc[self.isotonics[\"g_salts\"] == max(self.isotonics[\"g_salts\"])].iloc[0]\n",
    "\n",
    "    def find_isotonics_with_enough_salts(self) -> pd.DataFrame:\n",
    "        \"\"\"\n",
    "        Finds the isotonics with enough salts\n",
    "        \"\"\"\n",
    "        # Get the isotonics that satisfy the requirements of salts of the user:\n",
    "\n",
    "        mask = (self.vspre - 1) <= (self.isotonics[\"g_salts\"] / 2)\n",
    "\n",
    "        isotonics_with_enough_salts = self.isotonics.loc[mask]\n",
    "\n",
    "        # Sort the values in descendent order by the grams of salts they contain:\n",
    "        isotonics_with_enough_salts = isotonics_with_enough_salts.sort_values(by=\"g_salts\")\n",
    "\n",
    "        return isotonics_with_enough_salts\n",
    "\n",
    "    def isotonic_enough_salts(self, isotonic: pd.Series, factor: float) -> bool:\n",
    "        \"\"\"\n",
    "        Checks if the isotonic satisfies the salts requirements depending on the factor\n",
    "        \"\"\"\n",
    "        enough_salts = (self.vspre - factor) <= (isotonic[\"g_salts\"] / 2)\n",
    "\n",
    "        # For clarity of the code we do not return the bool enough_salts:\n",
    "        if enough_salts:\n",
    "            return True\n",
    "        else:\n",
    "            return False\n",
    "\n",
    "    def product1_recommendation_fallback(self) -> pd.Series:\n",
    "        \"\"\"\n",
    "        Funtion that finds the isotonic in case that:\n",
    "            - The user has no choosen brand\n",
    "            - The brand of the user has no isotonic\n",
    "            - The user has a choosen brand but the isotonic of the brand has not enough salts\n",
    "        \"\"\"\n",
    "\n",
    "        # Get all the isotonics that satisfy the salts requirements in order from less salts to most salts:\n",
    "        isotonics = self.find_isotonics_with_enough_salts()\n",
    "\n",
    "        # If there are no isotonics that satisfy the salt requirements:\n",
    "        if isotonics.empty:\n",
    "            print(\"The salts requirements are not satisfied. Recommending the maximum isotonic\")\n",
    "            # Return the isotonic with the maximum number of salts.\n",
    "            return self.find_max_isotonic()\n",
    "        \n",
    "        # If there are isotonics that satisfy the rule \n",
    "        else:\n",
    "            print(\"There are isotonics that satisfy the salts requirements. Recommending the one with less salts\")\n",
    "            # return the isotonic with less salts that satisfies the salts requirements. This isotonic is in the first row of the dataframe isotonics:\n",
    "            return isotonics.iloc[0]\n",
    "\n",
    "    def get_product1(self) -> str:\n",
    "        \"\"\"\n",
    "        Returns the recomendation for the product 1\n",
    "        \"\"\"\n",
    "        print(\"Product 1:\")\n",
    "\n",
    "        # if the user has choosen a brand:\n",
    "        if self.choosen_brand:\n",
    "            print(\"The user has a prefered brand\")\n",
    "            # Get all the isotonics from the brand:\n",
    "            brand_isotonic = self.get_brand_product(self.isotonics)\n",
    "\n",
    "            # If choosen brand does not have an isotonic:\n",
    "            if brand_isotonic.empty:\n",
    "                print(\"The prefered brand does not have an isotonic\")\n",
    "                return self.product1_recommendation_fallback()\n",
    "\n",
    "            else:\n",
    "                print(\"The prefered brand has an isotonic\")\n",
    "\n",
    "                # Since the brand can have multiple isotonics we will get the one with the highest quantity of\n",
    "                # salts. This product is going to be located in the first row of the dataframe brand_isotonic\n",
    "                # since the funtion get_brand_product() returns the isotonics ordered by most salts to less salts:\n",
    "                brand_isotonic = brand_isotonic.iloc[0]\n",
    "\n",
    "                # if the isotonic from the choosen brand has enough salts:\n",
    "                if self.isotonic_enough_salts(brand_isotonic, factor=1):\n",
    "                    print(\"The isotonic from the prefered brand has enough salts\")\n",
    "                    return brand_isotonic\n",
    "                \n",
    "                # If the isotonic from the choosen brand has not enough salts:\n",
    "                else:\n",
    "                    print(\"The isotonic from the prefered brand does not have enough salts\")\n",
    "                    return self.product1_recommendation_fallback()\n",
    "\n",
    "        # If the user has not choosen a brand:\n",
    "        else:\n",
    "            print(\"The user does not have a prefered brand\")\n",
    "            return self.product1_recommendation_fallback()\n",
    "        \n",
    "    def find_product2(self, products: pd.DataFrame):\n",
    "        \"\"\"\n",
    "        Input: Dataframe products containing all the pills or all the\n",
    "        gels depending on the choice of the user\n",
    "\n",
    "        Finds the product 2 in case that product 1 is not enough\n",
    "        \"\"\"\n",
    "        \n",
    "        # Check if the user has choosen a brand:\n",
    "        if self.choosen_brand:\n",
    "            print(\"User has choosen a brand\")\n",
    "            # Get all the gels/ pills from the choosen brand:\n",
    "            brand_product = self.get_brand_product(products)\n",
    "\n",
    "            # If the choosen brand has no gel/pills\n",
    "            if brand_product.empty:\n",
    "                print(\"The choosen brand has no gel/pills\")\n",
    "                return self.product2_recommendation_fallback(products)\n",
    "            \n",
    "            # If the choosen brand has gel/pills:\n",
    "            else:\n",
    "                print(\"The choosen brand has gel/pills\")\n",
    "\n",
    "                # Since the brand can have multiple gels/pills we will get the one with the highest quantity of\n",
    "                # salts. This product is going to be located in the first row of the dataframe brand_product\n",
    "                # since the funtion get_brand_product() returns the gels/pills ordered by most salts to less salts:\n",
    "                brand_product = brand_product.iloc[0]\n",
    "                \n",
    "                # If the brand product has enough salts:\n",
    "                if self.product2_enough_salts(brand_product):\n",
    "                    print(\"The gel/pill of the choosen brand has enough salts. Recommending it...\")\n",
    "                    return brand_product\n",
    "\n",
    "                # If the brand product does not have enough salts:\n",
    "                else:\n",
    "                    print(\"The gel/pill of the choosen brand does not have enough salts\")\n",
    "                    return self.product2_recommendation_fallback(products)\n",
    "        \n",
    "        # if the user has not choosen a brand:\n",
    "        else:\n",
    "            print(\"User has not choosen a brand\")\n",
    "            return self.product2_recommendation_fallback(products)\n",
    "        \n",
    "    def find_product2_with_enough_salts(self, products: pd.DataFrame):\n",
    "        \"\"\"\n",
    "        Finds the pills/gels with enough salts\n",
    "        \"\"\"\n",
    "        # Get the pills/gels that satisfy the requirements of salts of the user:\n",
    "\n",
    "        mask = (products[\"g_salts\"] >= (self.vspre - self.product1[\"g_salts\"] / 2))\n",
    "\n",
    "        products_with_enough_salts = products.loc[mask]\n",
    "\n",
    "        # Sort the values in descendent order by the grams of salts they contain:\n",
    "        products_with_enough_salts = products_with_enough_salts.sort_values(by=\"g_salts\")\n",
    "\n",
    "        return products_with_enough_salts\n",
    "\n",
    "    def find_max_product2(self, products: pd.DataFrame):\n",
    "        \"\"\"\n",
    "        Finds the pill/gel with the highest concentration of salts\n",
    "        \"\"\"\n",
    "\n",
    "        return products.loc[products[\"g_salts\"] == max(products[\"g_salts\"])].iloc[0]\n",
    "\n",
    "    def product2_recommendation_fallback(self, products: pd.DataFrame):\n",
    "        \"\"\"\n",
    "        Input: Dataframe products containg all the pills or all the\n",
    "        gels depending on the choice of the user\n",
    "\n",
    "        Funtion that finds the gel/pill recommendation in case that:\n",
    "            - The user has not choosen a brand\n",
    "            - The brand that the user has choosen has no gels/pills\n",
    "            - The gel/pill from the choosen brand does not satisfy the salt requirements of the user\n",
    "        \"\"\"\n",
    "\n",
    "        # Get all the pills/gels that satisfy the salts requirements in order from less salts to most salts:\n",
    "        products_enough_salts = self.find_product2_with_enough_salts(products)\n",
    "\n",
    "        # If there are no isotonics that satisfy the salt requirements:\n",
    "        if products_enough_salts.empty:\n",
    "            print(\"The salts requirements are not satisfied. Recommending the maximum pill/gel\")\n",
    "            # Return the pill/gel with the maximum number of salts.\n",
    "            return self.find_max_product2(products)\n",
    "        \n",
    "        # If there are isotonics that satisfy the rule \n",
    "        else:\n",
    "            print(\"There are pills/gels that satisfy the salts requirements. Recommending the one with less salts\")\n",
    "            # return the isotonic with less salts that satisfies the salts requirements. This isotonic is in the first row of the dataframe isotonics:\n",
    "            return products_enough_salts.iloc[0]\n",
    "\n",
    "\n",
    "    def product2_enough_salts(self, brand_product: pd.Series) -> bool:\n",
    "        \"\"\"\n",
    "        Checks if the gel/pill has enough salts in relation with the product1 isotonic\n",
    "        \"\"\"\n",
    "\n",
    "        enough_salts = (brand_product[\"g_salts\"] >= (self.vspre - self.product1[\"g_salts\"] / 2))\n",
    "\n",
    "        # Do not return enough_salts directly for code clarity:\n",
    "        if enough_salts:\n",
    "            return True\n",
    "        else:\n",
    "            return False\n",
    "        \n",
    "    def get_product2(self) -> pd.Series:\n",
    "        \"\"\"\n",
    "        Returns the recommendation for the product 2\n",
    "        \"\"\"\n",
    "        print(\"Product 2:\")\n",
    "\n",
    "        # First we have to check if the isotonic from product 1 satisfies the salt requirements:\n",
    "        if self.isotonic_enough_salts(self.product1, factor=0.4):\n",
    "            print(\"No need for product 2\")\n",
    "            # There is no need to recommend product 2:\n",
    "            return None\n",
    "        \n",
    "        else:\n",
    "            # In case that the salts requirements are not fully satisfied with product 1:\n",
    "            print(\"There is need for product 2\")\n",
    "            print(self.choosen_format)\n",
    "\n",
    "            if ((self.choosen_format is None) or (self.choosen_format == \"gel\")):\n",
    "                print(f\"The user has choosen the format {self.choosen_format}\")\n",
    "                \n",
    "                return self.find_product2(self.gels)\n",
    "\n",
    "            if self.choosen_format == \"pills\":\n",
    "                print(f\"The user has choosen the format {self.choosen_format}\")\n",
    "\n",
    "                return self.find_product2(self.pills)\n",
    "            \n",
    "    def get_litters_product3(self) -> pd.Series:\n",
    "        \"\"\"\n",
    "        Returns the amount of litters for product 3. Product 1 and Product 3 are the same product\n",
    "        \"\"\"\n",
    "        return int(self.obj_time) * 0.75\n",
    "    \n",
    "    def get_units_product4(self) -> pd.Series:\n",
    "        \"\"\"\n",
    "        Returns the units of product 4\n",
    "        \"\"\"\n",
    "\n",
    "        units = (self.vsduring - self.product1[\"g_salts\"] * self.litters_product3) / (self.product2[\"g_salts\"])\n",
    "\n",
    "        if units <= 0:\n",
    "            return 0\n",
    "        else:\n",
    "            # We have to round the decimal number up:\n",
    "            return int(units) + 1\n",
    "        \n",
    "        # TODO: We have to check if we are passing the restrictions of the recommended product\n",
    "\n",
    "    def get_litters_product5(self) -> pd.Series:\n",
    "        \"\"\"\n",
    "        Returns the litters for product 5\n",
    "        \"\"\"\n",
    "        # We have to check if the amount of salts of product 1 are enough to recommend 0,5 litters\n",
    "        # or if we have to recommend 1 litter\n",
    "        enough_salts = (self.product1[\"g_salts\"] / 2) >= self.vspost\n",
    "\n",
    "        if enough_salts:\n",
    "            return 0.5\n",
    "        else:\n",
    "            return 1\n",
    "    \n",
    "    def create_plan(self):\n",
    "        \"\"\"\n",
    "        Calls all the get_product functions of the class to \n",
    "        \"\"\"\n",
    "        self.product1 = self.get_product1()\n",
    "        self.product2 = self.get_product2()\n",
    "        self.litters_product3 = self.get_litters_product3()\n",
    "        self.units_product4 = self.get_units_product4()\n",
    "        self.litters_product5 = self.get_litters_product5()"
   ]
  },
  {
   "cell_type": "code",
   "execution_count": 112,
   "metadata": {},
   "outputs": [],
   "source": [
    "hydration_plan_generator = HydrationPlanGenerator(\n",
    "    products = products,\n",
    "    loss_salts_prediction = loss_salts_prediction_mountain,\n",
    "    choosen_brand = choosen_brand,\n",
    "    choosen_format = choosen_format,\n",
    "    obj_time = mountain_objectives[\"time\"]\n",
    ")"
   ]
  },
  {
   "cell_type": "code",
   "execution_count": 113,
   "metadata": {},
   "outputs": [
    {
     "name": "stdout",
     "output_type": "stream",
     "text": [
      "Product 1:\n",
      "The user has a prefered brand\n",
      "The prefered brand has an isotonic\n",
      "The isotonic from the prefered brand does not have enough salts\n",
      "There are isotonics that satisfy the salts requirements. Recommending the one with less salts\n",
      "Product 2:\n",
      "There is need for product 2\n",
      "pills\n",
      "The user has choosen the format pills\n",
      "User has choosen a brand\n",
      "The choosen brand has no gel/pills\n",
      "There are pills/gels that satisfy the salts requirements. Recommending the one with less salts\n"
     ]
    }
   ],
   "source": [
    "hydration_plan_generator.create_plan()"
   ]
  },
  {
   "cell_type": "code",
   "execution_count": 114,
   "metadata": {},
   "outputs": [
    {
     "name": "stdout",
     "output_type": "stream",
     "text": [
      "Product 1:\n",
      "Low-calorie electrolyte powder for sports & exercise, brand: Huma\n",
      "Product 2:\n",
      "PRO SALT CAPS, brand: Crown\n",
      "Product 3 litters:\n",
      "1.5\n",
      "Product 4 units:\n",
      "1\n",
      "Product 5 litters\n",
      "1\n"
     ]
    }
   ],
   "source": [
    "print(\"Product 1:\")\n",
    "print(f\"{hydration_plan_generator.product1['name']}, brand: {hydration_plan_generator.product1['brand']}\")\n",
    "print(\"Product 2:\")\n",
    "print(f\"{hydration_plan_generator.product2['name']}, brand: {hydration_plan_generator.product2['brand']}\")\n",
    "print(\"Product 3 litters:\")\n",
    "print(hydration_plan_generator.litters_product3)\n",
    "print(\"Product 4 units:\")\n",
    "print(hydration_plan_generator.units_product4)\n",
    "print(\"Product 5 litters\")\n",
    "print(hydration_plan_generator.litters_product5)"
   ]
  },
  {
   "attachments": {},
   "cell_type": "markdown",
   "metadata": {},
   "source": [
    "## Comprovacions"
   ]
  },
  {
   "cell_type": "code",
   "execution_count": 18,
   "metadata": {},
   "outputs": [
    {
     "data": {
      "text/plain": [
       "type                                                                     gel\n",
       "brand                                                            Santa Madre\n",
       "name                                       Unusual gel - on off caf - 45 cho\n",
       "link                       https://santamadreco.com/es/shop/57-246-gel-en...\n",
       "mg_salts                                                                 500\n",
       "tendency                                                                 low\n",
       "daily_limit                                                              NaN\n",
       "grams_per_litter                                                         NaN\n",
       "minimum_dosage_interval                                                  1.0\n",
       "vegan                                                                   True\n",
       "gluten_free                                                             True\n",
       "lactose                                                                False\n",
       "egg_protein                                                            False\n",
       "nuts                                                                    True\n",
       "soy                                                                     True\n",
       "natural                                                                 True\n",
       "gluten                                                                 False\n",
       "g_salts                                                                  0.5\n",
       "Name: 12, dtype: object"
      ]
     },
     "execution_count": 18,
     "metadata": {},
     "output_type": "execute_result"
    }
   ],
   "source": [
    "hydration_plan_generator.product2"
   ]
  },
  {
   "cell_type": "code",
   "execution_count": 238,
   "metadata": {},
   "outputs": [
    {
     "data": {
      "text/plain": [
       "'Totum'"
      ]
     },
     "execution_count": 238,
     "metadata": {},
     "output_type": "execute_result"
    }
   ],
   "source": [
    "hydration_plan_generator.choosen_brand"
   ]
  },
  {
   "cell_type": "code",
   "execution_count": 51,
   "metadata": {},
   "outputs": [
    {
     "data": {
      "text/plain": [
       "2"
      ]
     },
     "execution_count": 51,
     "metadata": {},
     "output_type": "execute_result"
    }
   ],
   "source": [
    "int(2.1)"
   ]
  },
  {
   "cell_type": "code",
   "execution_count": 242,
   "metadata": {},
   "outputs": [],
   "source": [
    "isotonics = products.loc[(products[\"type\"] == \"isotonic\")]"
   ]
  },
  {
   "cell_type": "code",
   "execution_count": 243,
   "metadata": {},
   "outputs": [
    {
     "data": {
      "text/html": [
       "<div>\n",
       "<style scoped>\n",
       "    .dataframe tbody tr th:only-of-type {\n",
       "        vertical-align: middle;\n",
       "    }\n",
       "\n",
       "    .dataframe tbody tr th {\n",
       "        vertical-align: top;\n",
       "    }\n",
       "\n",
       "    .dataframe thead th {\n",
       "        text-align: right;\n",
       "    }\n",
       "</style>\n",
       "<table border=\"1\" class=\"dataframe\">\n",
       "  <thead>\n",
       "    <tr style=\"text-align: right;\">\n",
       "      <th></th>\n",
       "      <th>type</th>\n",
       "      <th>brand</th>\n",
       "      <th>name</th>\n",
       "      <th>link</th>\n",
       "      <th>mg_salts</th>\n",
       "      <th>tendency</th>\n",
       "      <th>daily_limit</th>\n",
       "      <th>grams_per_litter</th>\n",
       "      <th>minimum_dosage_interval</th>\n",
       "      <th>vegan</th>\n",
       "      <th>gluten_free</th>\n",
       "      <th>lactose</th>\n",
       "      <th>egg_protein</th>\n",
       "      <th>nuts</th>\n",
       "      <th>soy</th>\n",
       "      <th>natural</th>\n",
       "      <th>gluten</th>\n",
       "      <th>g_salts</th>\n",
       "    </tr>\n",
       "  </thead>\n",
       "  <tbody>\n",
       "    <tr>\n",
       "      <th>1</th>\n",
       "      <td>isotonic</td>\n",
       "      <td>Nutrinovex</td>\n",
       "      <td>Hidratein sals</td>\n",
       "      <td>https://nutrinovex.es/hidratein-salts/</td>\n",
       "      <td>3020</td>\n",
       "      <td>high</td>\n",
       "      <td>NaN</td>\n",
       "      <td>100.0</td>\n",
       "      <td>NaN</td>\n",
       "      <td>False</td>\n",
       "      <td>False</td>\n",
       "      <td>True</td>\n",
       "      <td>True</td>\n",
       "      <td>True</td>\n",
       "      <td>True</td>\n",
       "      <td>False</td>\n",
       "      <td>True</td>\n",
       "      <td>3.02</td>\n",
       "    </tr>\n",
       "  </tbody>\n",
       "</table>\n",
       "</div>"
      ],
      "text/plain": [
       "       type       brand            name  \\\n",
       "1  isotonic  Nutrinovex  Hidratein sals   \n",
       "\n",
       "                                     link  mg_salts tendency  daily_limit  \\\n",
       "1  https://nutrinovex.es/hidratein-salts/      3020     high          NaN   \n",
       "\n",
       "   grams_per_litter  minimum_dosage_interval  vegan  gluten_free  lactose  \\\n",
       "1             100.0                      NaN  False        False     True   \n",
       "\n",
       "   egg_protein  nuts   soy  natural  gluten  g_salts  \n",
       "1         True  True  True    False    True     3.02  "
      ]
     },
     "execution_count": 243,
     "metadata": {},
     "output_type": "execute_result"
    }
   ],
   "source": [
    "mask = ((hydration_plan_generator.vspre - 0.65) <= isotonics[\"g_salts\"]/2)\n",
    "candidates = isotonics.loc[mask]\n",
    "candidates"
   ]
  },
  {
   "cell_type": "code",
   "execution_count": 244,
   "metadata": {},
   "outputs": [],
   "source": [
    "isotonics = products.loc[(products[\"type\"] == \"isotonic\")]\n",
    "mask = ((hydration_plan_generator.vspre - 0.65) <= isotonics[\"g_salts\"]/2)\n",
    "\n",
    "product1 = isotonics.loc[mask].iloc[0]"
   ]
  },
  {
   "cell_type": "code",
   "execution_count": 245,
   "metadata": {},
   "outputs": [
    {
     "data": {
      "text/plain": [
       "type                                                     isotonic\n",
       "brand                                                  Nutrinovex\n",
       "name                                               Hidratein sals\n",
       "link                       https://nutrinovex.es/hidratein-salts/\n",
       "mg_salts                                                     3020\n",
       "tendency                                                     high\n",
       "daily_limit                                                   NaN\n",
       "grams_per_litter                                            100.0\n",
       "minimum_dosage_interval                                       NaN\n",
       "vegan                                                       False\n",
       "gluten_free                                                 False\n",
       "lactose                                                      True\n",
       "egg_protein                                                  True\n",
       "nuts                                                         True\n",
       "soy                                                          True\n",
       "natural                                                     False\n",
       "gluten                                                       True\n",
       "g_salts                                                      3.02\n",
       "Name: 1, dtype: object"
      ]
     },
     "execution_count": 245,
     "metadata": {},
     "output_type": "execute_result"
    }
   ],
   "source": [
    "product1"
   ]
  },
  {
   "cell_type": "code",
   "execution_count": 246,
   "metadata": {},
   "outputs": [
    {
     "data": {
      "text/plain": [
       "False"
      ]
     },
     "execution_count": 246,
     "metadata": {},
     "output_type": "execute_result"
    }
   ],
   "source": [
    "product1[\"g_salts\"] / 2 >= hydration_plan_generator.vspre - 0.4"
   ]
  },
  {
   "cell_type": "code",
   "execution_count": 247,
   "metadata": {},
   "outputs": [
    {
     "name": "stdout",
     "output_type": "stream",
     "text": [
      "pills\n",
      "Totum\n"
     ]
    }
   ],
   "source": [
    "print(hydration_plan_generator.choosen_format)\n",
    "print(hydration_plan_generator.choosen_brand)"
   ]
  },
  {
   "cell_type": "code",
   "execution_count": 250,
   "metadata": {},
   "outputs": [],
   "source": [
    "candidate = products[(products[\"brand\"] == \"Totum\") & (products[\"type\"] == \"pills\")]"
   ]
  },
  {
   "cell_type": "code",
   "execution_count": 251,
   "metadata": {},
   "outputs": [
    {
     "data": {
      "text/html": [
       "<div>\n",
       "<style scoped>\n",
       "    .dataframe tbody tr th:only-of-type {\n",
       "        vertical-align: middle;\n",
       "    }\n",
       "\n",
       "    .dataframe tbody tr th {\n",
       "        vertical-align: top;\n",
       "    }\n",
       "\n",
       "    .dataframe thead th {\n",
       "        text-align: right;\n",
       "    }\n",
       "</style>\n",
       "<table border=\"1\" class=\"dataframe\">\n",
       "  <thead>\n",
       "    <tr style=\"text-align: right;\">\n",
       "      <th></th>\n",
       "      <th>type</th>\n",
       "      <th>brand</th>\n",
       "      <th>name</th>\n",
       "      <th>link</th>\n",
       "      <th>mg_salts</th>\n",
       "      <th>tendency</th>\n",
       "      <th>daily_limit</th>\n",
       "      <th>grams_per_litter</th>\n",
       "      <th>minimum_dosage_interval</th>\n",
       "      <th>vegan</th>\n",
       "      <th>gluten_free</th>\n",
       "      <th>lactose</th>\n",
       "      <th>egg_protein</th>\n",
       "      <th>nuts</th>\n",
       "      <th>soy</th>\n",
       "      <th>natural</th>\n",
       "      <th>gluten</th>\n",
       "      <th>g_salts</th>\n",
       "    </tr>\n",
       "  </thead>\n",
       "  <tbody>\n",
       "  </tbody>\n",
       "</table>\n",
       "</div>"
      ],
      "text/plain": [
       "Empty DataFrame\n",
       "Columns: [type, brand, name, link, mg_salts, tendency, daily_limit, grams_per_litter, minimum_dosage_interval, vegan, gluten_free, lactose, egg_protein, nuts, soy, natural, gluten, g_salts]\n",
       "Index: []"
      ]
     },
     "execution_count": 251,
     "metadata": {},
     "output_type": "execute_result"
    }
   ],
   "source": [
    "candidate"
   ]
  },
  {
   "cell_type": "code",
   "execution_count": 216,
   "metadata": {},
   "outputs": [
    {
     "data": {
      "text/plain": [
       "8    False\n",
       "Name: g_salts, dtype: bool"
      ]
     },
     "execution_count": 216,
     "metadata": {},
     "output_type": "execute_result"
    }
   ],
   "source": [
    "candidate[\"g_salts\"] >= hydration_plan_generator.vspre - hydration_plan_generator.product1[\"g_salts\"] / 2"
   ]
  },
  {
   "cell_type": "code",
   "execution_count": null,
   "metadata": {},
   "outputs": [],
   "source": []
  },
  {
   "cell_type": "code",
   "execution_count": 255,
   "metadata": {},
   "outputs": [],
   "source": [
    "mask = (products[\"g_salts\"] >= (hydration_plan_generator.vspre - hydration_plan_generator.product1[\"g_salts\"]/2))\n",
    "pills = products.loc[mask & (products[\"type\"] == \"pills\")]"
   ]
  },
  {
   "cell_type": "code",
   "execution_count": 256,
   "metadata": {},
   "outputs": [
    {
     "data": {
      "text/html": [
       "<div>\n",
       "<style scoped>\n",
       "    .dataframe tbody tr th:only-of-type {\n",
       "        vertical-align: middle;\n",
       "    }\n",
       "\n",
       "    .dataframe tbody tr th {\n",
       "        vertical-align: top;\n",
       "    }\n",
       "\n",
       "    .dataframe thead th {\n",
       "        text-align: right;\n",
       "    }\n",
       "</style>\n",
       "<table border=\"1\" class=\"dataframe\">\n",
       "  <thead>\n",
       "    <tr style=\"text-align: right;\">\n",
       "      <th></th>\n",
       "      <th>type</th>\n",
       "      <th>brand</th>\n",
       "      <th>name</th>\n",
       "      <th>link</th>\n",
       "      <th>mg_salts</th>\n",
       "      <th>tendency</th>\n",
       "      <th>daily_limit</th>\n",
       "      <th>grams_per_litter</th>\n",
       "      <th>minimum_dosage_interval</th>\n",
       "      <th>vegan</th>\n",
       "      <th>gluten_free</th>\n",
       "      <th>lactose</th>\n",
       "      <th>egg_protein</th>\n",
       "      <th>nuts</th>\n",
       "      <th>soy</th>\n",
       "      <th>natural</th>\n",
       "      <th>gluten</th>\n",
       "      <th>g_salts</th>\n",
       "    </tr>\n",
       "  </thead>\n",
       "  <tbody>\n",
       "    <tr>\n",
       "      <th>14</th>\n",
       "      <td>pills</td>\n",
       "      <td>Nutrinovex</td>\n",
       "      <td>Hidratein Salts Caps – Duplo</td>\n",
       "      <td>https://nutrinovex.es/hidratein-salts-caps-duplo/</td>\n",
       "      <td>515</td>\n",
       "      <td>strandard</td>\n",
       "      <td>NaN</td>\n",
       "      <td>NaN</td>\n",
       "      <td>0.75</td>\n",
       "      <td>True</td>\n",
       "      <td>True</td>\n",
       "      <td>True</td>\n",
       "      <td>True</td>\n",
       "      <td>True</td>\n",
       "      <td>True</td>\n",
       "      <td>False</td>\n",
       "      <td>False</td>\n",
       "      <td>0.515</td>\n",
       "    </tr>\n",
       "    <tr>\n",
       "      <th>15</th>\n",
       "      <td>pills</td>\n",
       "      <td>226ers</td>\n",
       "      <td>SALTS ELECTROLYTES</td>\n",
       "      <td>https://www.226ers.com/es/salts-electrolytes-3...</td>\n",
       "      <td>474</td>\n",
       "      <td>low</td>\n",
       "      <td>14.0</td>\n",
       "      <td>NaN</td>\n",
       "      <td>0.50</td>\n",
       "      <td>True</td>\n",
       "      <td>True</td>\n",
       "      <td>False</td>\n",
       "      <td>False</td>\n",
       "      <td>False</td>\n",
       "      <td>True</td>\n",
       "      <td>False</td>\n",
       "      <td>False</td>\n",
       "      <td>0.474</td>\n",
       "    </tr>\n",
       "    <tr>\n",
       "      <th>16</th>\n",
       "      <td>pills</td>\n",
       "      <td>226ers</td>\n",
       "      <td>SUB9 SALTS ELECTROLYTES</td>\n",
       "      <td>https://www.226ers.com/es/sub9-salts-electroly...</td>\n",
       "      <td>699</td>\n",
       "      <td>high</td>\n",
       "      <td>8.0</td>\n",
       "      <td>NaN</td>\n",
       "      <td>0.50</td>\n",
       "      <td>True</td>\n",
       "      <td>True</td>\n",
       "      <td>False</td>\n",
       "      <td>False</td>\n",
       "      <td>False</td>\n",
       "      <td>True</td>\n",
       "      <td>False</td>\n",
       "      <td>False</td>\n",
       "      <td>0.699</td>\n",
       "    </tr>\n",
       "    <tr>\n",
       "      <th>17</th>\n",
       "      <td>pills</td>\n",
       "      <td>Crown</td>\n",
       "      <td>PRO SALT CAPS</td>\n",
       "      <td>https://crownsportnutrition.com/producto/pro-s...</td>\n",
       "      <td>843</td>\n",
       "      <td>high</td>\n",
       "      <td>NaN</td>\n",
       "      <td>NaN</td>\n",
       "      <td>0.33</td>\n",
       "      <td>True</td>\n",
       "      <td>True</td>\n",
       "      <td>False</td>\n",
       "      <td>False</td>\n",
       "      <td>False</td>\n",
       "      <td>False</td>\n",
       "      <td>False</td>\n",
       "      <td>False</td>\n",
       "      <td>0.843</td>\n",
       "    </tr>\n",
       "    <tr>\n",
       "      <th>18</th>\n",
       "      <td>pills</td>\n",
       "      <td>Hammer</td>\n",
       "      <td>Endurolytes  extreme</td>\n",
       "      <td>https://www.hammernutrition.eu/es/shop/endurol...</td>\n",
       "      <td>415</td>\n",
       "      <td>low</td>\n",
       "      <td>NaN</td>\n",
       "      <td>NaN</td>\n",
       "      <td>NaN</td>\n",
       "      <td>True</td>\n",
       "      <td>False</td>\n",
       "      <td>True</td>\n",
       "      <td>True</td>\n",
       "      <td>True</td>\n",
       "      <td>True</td>\n",
       "      <td>True</td>\n",
       "      <td>True</td>\n",
       "      <td>0.415</td>\n",
       "    </tr>\n",
       "    <tr>\n",
       "      <th>19</th>\n",
       "      <td>pills</td>\n",
       "      <td>Salt Sticks</td>\n",
       "      <td>Electrolyte caps</td>\n",
       "      <td>https://trideporte.com/suplementos/4636-82724-...</td>\n",
       "      <td>633</td>\n",
       "      <td>strandard</td>\n",
       "      <td>NaN</td>\n",
       "      <td>NaN</td>\n",
       "      <td>0.50</td>\n",
       "      <td>True</td>\n",
       "      <td>True</td>\n",
       "      <td>True</td>\n",
       "      <td>True</td>\n",
       "      <td>True</td>\n",
       "      <td>True</td>\n",
       "      <td>True</td>\n",
       "      <td>False</td>\n",
       "      <td>0.633</td>\n",
       "    </tr>\n",
       "  </tbody>\n",
       "</table>\n",
       "</div>"
      ],
      "text/plain": [
       "     type        brand                          name  \\\n",
       "14  pills   Nutrinovex  Hidratein Salts Caps – Duplo   \n",
       "15  pills       226ers            SALTS ELECTROLYTES   \n",
       "16  pills       226ers       SUB9 SALTS ELECTROLYTES   \n",
       "17  pills        Crown                 PRO SALT CAPS   \n",
       "18  pills       Hammer          Endurolytes  extreme   \n",
       "19  pills  Salt Sticks              Electrolyte caps   \n",
       "\n",
       "                                                 link  mg_salts   tendency  \\\n",
       "14  https://nutrinovex.es/hidratein-salts-caps-duplo/       515  strandard   \n",
       "15  https://www.226ers.com/es/salts-electrolytes-3...       474        low   \n",
       "16  https://www.226ers.com/es/sub9-salts-electroly...       699       high   \n",
       "17  https://crownsportnutrition.com/producto/pro-s...       843       high   \n",
       "18  https://www.hammernutrition.eu/es/shop/endurol...       415        low   \n",
       "19  https://trideporte.com/suplementos/4636-82724-...       633  strandard   \n",
       "\n",
       "    daily_limit  grams_per_litter  minimum_dosage_interval  vegan  \\\n",
       "14          NaN               NaN                     0.75   True   \n",
       "15         14.0               NaN                     0.50   True   \n",
       "16          8.0               NaN                     0.50   True   \n",
       "17          NaN               NaN                     0.33   True   \n",
       "18          NaN               NaN                      NaN   True   \n",
       "19          NaN               NaN                     0.50   True   \n",
       "\n",
       "    gluten_free  lactose  egg_protein   nuts    soy  natural  gluten  g_salts  \n",
       "14         True     True         True   True   True    False   False    0.515  \n",
       "15         True    False        False  False   True    False   False    0.474  \n",
       "16         True    False        False  False   True    False   False    0.699  \n",
       "17         True    False        False  False  False    False   False    0.843  \n",
       "18        False     True         True   True   True     True    True    0.415  \n",
       "19         True     True         True   True   True     True   False    0.633  "
      ]
     },
     "execution_count": 256,
     "metadata": {},
     "output_type": "execute_result"
    }
   ],
   "source": [
    "pills"
   ]
  },
  {
   "cell_type": "code",
   "execution_count": 257,
   "metadata": {},
   "outputs": [
    {
     "data": {
      "text/plain": [
       "1.5"
      ]
     },
     "execution_count": 257,
     "metadata": {},
     "output_type": "execute_result"
    }
   ],
   "source": [
    "hydration_plan_generator.obj_time * 0.75"
   ]
  },
  {
   "cell_type": "code",
   "execution_count": 258,
   "metadata": {},
   "outputs": [
    {
     "data": {
      "text/plain": [
       "3.8202018341305743"
      ]
     },
     "execution_count": 258,
     "metadata": {},
     "output_type": "execute_result"
    }
   ],
   "source": [
    "hydration_plan_generator.vsduring"
   ]
  },
  {
   "cell_type": "code",
   "execution_count": 259,
   "metadata": {},
   "outputs": [
    {
     "data": {
      "text/plain": [
       "4.53"
      ]
     },
     "execution_count": 259,
     "metadata": {},
     "output_type": "execute_result"
    }
   ],
   "source": [
    "hydration_plan_generator.product1[\"g_salts\"] * 1.5"
   ]
  },
  {
   "cell_type": "code",
   "execution_count": 260,
   "metadata": {},
   "outputs": [
    {
     "data": {
      "text/plain": [
       "False"
      ]
     },
     "execution_count": 260,
     "metadata": {},
     "output_type": "execute_result"
    }
   ],
   "source": [
    "hydration_plan_generator.product1[\"g_salts\"] / 2 >= hydration_plan_generator.vspost"
   ]
  },
  {
   "cell_type": "code",
   "execution_count": 29,
   "metadata": {},
   "outputs": [
    {
     "data": {
      "text/plain": [
       "1.5552018341305742"
      ]
     },
     "execution_count": 29,
     "metadata": {},
     "output_type": "execute_result"
    }
   ],
   "source": [
    "hydration_plan_generator.vsduring - hydration_plan_generator.product1[\"g_salts\"] * 0.75"
   ]
  },
  {
   "cell_type": "code",
   "execution_count": 23,
   "metadata": {},
   "outputs": [
    {
     "data": {
      "text/plain": [
       "1.9101009170652872"
      ]
     },
     "execution_count": 23,
     "metadata": {},
     "output_type": "execute_result"
    }
   ],
   "source": [
    "hydration_plan_generator.vspre"
   ]
  },
  {
   "cell_type": "code",
   "execution_count": 28,
   "metadata": {},
   "outputs": [
    {
     "data": {
      "text/plain": [
       "1.5"
      ]
     },
     "execution_count": 28,
     "metadata": {},
     "output_type": "execute_result"
    }
   ],
   "source": [
    "hydration_plan_generator.litters_product3"
   ]
  },
  {
   "cell_type": "code",
   "execution_count": 22,
   "metadata": {},
   "outputs": [
    {
     "data": {
      "text/plain": [
       "1.5"
      ]
     },
     "execution_count": 22,
     "metadata": {},
     "output_type": "execute_result"
    }
   ],
   "source": [
    "hydration_plan_generator.litters_product3"
   ]
  },
  {
   "attachments": {},
   "cell_type": "markdown",
   "metadata": {},
   "source": [
    "# intoleràncies"
   ]
  },
  {
   "cell_type": "code",
   "execution_count": 112,
   "metadata": {},
   "outputs": [
    {
     "data": {
      "text/html": [
       "<div>\n",
       "<style scoped>\n",
       "    .dataframe tbody tr th:only-of-type {\n",
       "        vertical-align: middle;\n",
       "    }\n",
       "\n",
       "    .dataframe tbody tr th {\n",
       "        vertical-align: top;\n",
       "    }\n",
       "\n",
       "    .dataframe thead th {\n",
       "        text-align: right;\n",
       "    }\n",
       "</style>\n",
       "<table border=\"1\" class=\"dataframe\">\n",
       "  <thead>\n",
       "    <tr style=\"text-align: right;\">\n",
       "      <th></th>\n",
       "      <th>type</th>\n",
       "      <th>brand</th>\n",
       "      <th>name</th>\n",
       "      <th>link</th>\n",
       "      <th>mg_salts</th>\n",
       "      <th>tendency</th>\n",
       "      <th>daily_limit</th>\n",
       "      <th>grams_per_litter</th>\n",
       "      <th>minimum_dosage_interval</th>\n",
       "      <th>vegan</th>\n",
       "      <th>gluten_free</th>\n",
       "      <th>lactose</th>\n",
       "      <th>egg_protein</th>\n",
       "      <th>nuts</th>\n",
       "      <th>soy</th>\n",
       "      <th>natural</th>\n",
       "      <th>gluten</th>\n",
       "      <th>g_salts</th>\n",
       "    </tr>\n",
       "  </thead>\n",
       "  <tbody>\n",
       "    <tr>\n",
       "      <th>2</th>\n",
       "      <td>isotonic</td>\n",
       "      <td>Crown</td>\n",
       "      <td>BEBIDA ISOTÓNICA (ISODRINK &amp; ENERGY)</td>\n",
       "      <td>https://crownsportnutrition.com/producto/isodr...</td>\n",
       "      <td>1500</td>\n",
       "      <td>strandard</td>\n",
       "      <td>NaN</td>\n",
       "      <td>80.0</td>\n",
       "      <td>NaN</td>\n",
       "      <td>True</td>\n",
       "      <td>True</td>\n",
       "      <td>False</td>\n",
       "      <td>False</td>\n",
       "      <td>False</td>\n",
       "      <td>False</td>\n",
       "      <td>False</td>\n",
       "      <td>False</td>\n",
       "      <td>1.5</td>\n",
       "    </tr>\n",
       "  </tbody>\n",
       "</table>\n",
       "</div>"
      ],
      "text/plain": [
       "       type  brand                                  name  \\\n",
       "2  isotonic  Crown  BEBIDA ISOTÓNICA (ISODRINK & ENERGY)   \n",
       "\n",
       "                                                link  mg_salts   tendency  \\\n",
       "2  https://crownsportnutrition.com/producto/isodr...      1500  strandard   \n",
       "\n",
       "   daily_limit  grams_per_litter  minimum_dosage_interval  vegan  gluten_free  \\\n",
       "2          NaN              80.0                      NaN   True         True   \n",
       "\n",
       "   lactose  egg_protein   nuts    soy  natural  gluten  g_salts  \n",
       "2    False        False  False  False    False   False      1.5  "
      ]
     },
     "execution_count": 112,
     "metadata": {},
     "output_type": "execute_result"
    }
   ],
   "source": [
    "products.loc[(products[\"type\"] == \"isotonic\") & (products[\"nuts\"] == False)]"
   ]
  },
  {
   "cell_type": "code",
   "execution_count": 110,
   "metadata": {},
   "outputs": [
    {
     "data": {
      "text/plain": [
       "False"
      ]
     },
     "execution_count": 110,
     "metadata": {},
     "output_type": "execute_result"
    }
   ],
   "source": [
    "hydration_plan_generator.vspre - 0.65 <= ex[\"g_salts\"] / 2"
   ]
  },
  {
   "cell_type": "code",
   "execution_count": null,
   "metadata": {},
   "outputs": [],
   "source": []
  }
 ],
 "metadata": {
  "kernelspec": {
   "display_name": "base",
   "language": "python",
   "name": "python3"
  },
  "language_info": {
   "codemirror_mode": {
    "name": "ipython",
    "version": 3
   },
   "file_extension": ".py",
   "mimetype": "text/x-python",
   "name": "python",
   "nbconvert_exporter": "python",
   "pygments_lexer": "ipython3",
   "version": "3.9.12"
  },
  "orig_nbformat": 4
 },
 "nbformat": 4,
 "nbformat_minor": 2
}
